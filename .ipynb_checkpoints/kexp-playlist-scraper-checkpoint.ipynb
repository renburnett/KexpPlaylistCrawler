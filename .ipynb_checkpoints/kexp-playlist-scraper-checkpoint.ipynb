{
 "cells": [
  {
   "cell_type": "code",
   "execution_count": null,
   "metadata": {},
   "outputs": [],
   "source": []
  },
  {
   "cell_type": "code",
   "execution_count": 15,
   "metadata": {},
   "outputs": [],
   "source": [
    "from selenium import webdriver\n",
    "from selenium.webdriver.common.by import By\n",
    "from time import sleep\n",
    "import csv\n",
    "\n",
    "browser = webdriver.Firefox()\n",
    "\n",
    "profile = webdriver.FirefoxProfile()\n",
    "fp = profile.set_preference(\"dom.disable_beforeunload\", True)\n",
    "\n",
    "#TODO: write the correct path to the geckodriver and check that it's a proper PATH variable\n",
    "\n",
    "driver = webdriver.Firefox(firefox_profile=fp, executable_path=\"/usr/local/bin/geckodriver\")\n",
    "driver.delete_all_cookies()\n",
    "driver.maximize_window()\n",
    "\n",
    "def GetMostRecentSong():\n",
    "\n",
    "    profile = webdriver.FirefoxProfile()\n",
    "    fp = profile.set_preference(\"dom.disable_beforeunload\", True)\n",
    "    \n",
    "    #TODO: write the correct path to the geckodriver and check that it's a proper PATH variable\n",
    "    \n",
    "    driver = webdriver.Firefox(firefox_profile=fp, executable_path=r\"⁨⁩/usr/local/Cellar/geckodriver/0.23.0/bin/geckodriver\")\n",
    "    driver.delete_all_cookies()\n",
    "    driver.maximize_window()\n",
    "\n",
    "    driver.get(\"https://www.kexp.org/playlist\")\n",
    "    sleep(2)\n",
    "    \n",
    "    xpath_song_list = '//div[@id=\"playlist-plays\"]'\n",
    "    xpath_time = '//div[@class=\"PlaylistItem-time\"]/h5[1]'\n",
    "    xpath_song_name = '//div[@class=\"PlaylistItem u-mb1\"]/h3[1]'\n",
    "    xpath_song_artist = '//div[@class=\"PlaylistItem u-mb1\"]/div[@class=\"u-h3 u-mb1 u-lightWeight\"]'\n",
    "\n",
    "    for song_div in driver.find_elements_by_xpath(xpath_song_list):\n",
    "        \n",
    "        song_name = song_div.find_element_by_xpath(xpath_song_name).get_attribute('innerHTML')\n",
    "        song_time = song_div.find_element_by_xpath(xpath_time).get_attribute('innerHTML')\n",
    "        song_artist = song_div.find_element_by_xpath(xpath_song_artist).get_attribute('innerHTML')\n",
    "\n",
    "        print(song_name)\n",
    "        print(song_time)\n",
    "        print(song_artist)\n",
    "        \n",
    "        sleep(0.5)\n",
    "\n",
    "\n",
    "    driver.quit()\n",
    "    \n",
    "\n",
    "if __name__ == '__main__':\n",
    "    GetMostRecentSong()"
   ]
  },
  {
   "cell_type": "code",
   "execution_count": null,
   "metadata": {},
   "outputs": [],
   "source": []
  },
  {
   "cell_type": "code",
   "execution_count": null,
   "metadata": {},
   "outputs": [],
   "source": []
  }
 ],
 "metadata": {
  "kernelspec": {
   "display_name": "Python 3",
   "language": "python",
   "name": "python3"
  },
  "language_info": {
   "codemirror_mode": {
    "name": "ipython",
    "version": 3
   },
   "file_extension": ".py",
   "mimetype": "text/x-python",
   "name": "python",
   "nbconvert_exporter": "python",
   "pygments_lexer": "ipython3",
   "version": "3.7.0"
  }
 },
 "nbformat": 4,
 "nbformat_minor": 2
}
