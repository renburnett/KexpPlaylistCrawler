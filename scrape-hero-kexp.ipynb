{
 "cells": [
  {
   "cell_type": "code",
   "execution_count": null,
   "metadata": {},
   "outputs": [],
   "source": [
    "from lxml import html  \n",
    "import csv,os,json\n",
    "import requests\n",
    "from time import sleep\n",
    " \n",
    "def KexpPlaylistParser(url):\n",
    "    headers = {'User-Agent': 'Mozilla/5.0 (X11; Linux x86_64) AppleWebKit/537.36 (KHTML, like Gecko) Chrome/42.0.2311.90 Safari/537.36'}\n",
    "    page = requests.get(url,headers=headers)\n",
    "\n",
    "    try:\n",
    "        #time, song, artist, album\n",
    "        \n",
    "        doc = html.fromstring(page.content)\n",
    "\n",
    "        xpath_song_divs = 'div[@class=\"PlaylistItem u-mb1\"]'\n",
    "        \n",
    "        print(\"hello\")\n",
    "        print(doc.xpath( 'div[@class=\"PlaylistItem u-mb1\"][1]//h5[1]/text()'))\n",
    "\n",
    "        for song in doc.xpath(xpath_song_divs):\n",
    "            raw_text = doc.xpath('//div[@class=\"PlaylistItem-time\"]/h5[1]/text()')\n",
    "            print(raw_text)\n",
    "\n",
    "        song_name = ''\n",
    "        artist_name = ''\n",
    "        album_name = ''\n",
    "        time_played = ''\n",
    "        \n",
    "        data = {\n",
    "                'song': song_name,\n",
    "                'artist': artist_name,\n",
    "                'album': album_name,\n",
    "                'time' : time_played\n",
    "                }\n",
    "\n",
    "        return data\n",
    "    except Exception as e:\n",
    "        print(e)\n",
    " \n",
    "def ReadAsin():\n",
    "    # AsinList = csv.DictReader(open(os.path.join(os.path.dirname(__file__),\"Asinfeed.csv\")))\n",
    "\n",
    "    extracted_data = []\n",
    "    \n",
    "    url = \"https://www.kexp.org/playlist\"\n",
    "    print(\"Processing: \"+url)\n",
    "    extracted_data.append(KexpPlaylistParser(url))\n",
    "    sleep(5)\n",
    "    f=open('data.json','w')\n",
    "    \n",
    "    json.dump(extracted_data,f,indent=4)\n",
    " \n",
    " \n",
    "if __name__ == \"__main__\":\n",
    "    ReadAsin()"
   ]
  }
 ],
 "metadata": {
  "kernelspec": {
   "display_name": "Python 3",
   "language": "python",
   "name": "python3"
  },
  "language_info": {
   "codemirror_mode": {
    "name": "ipython",
    "version": 3
   },
   "file_extension": ".py",
   "mimetype": "text/x-python",
   "name": "python",
   "nbconvert_exporter": "python",
   "pygments_lexer": "ipython3",
   "version": "3.7.0"
  }
 },
 "nbformat": 4,
 "nbformat_minor": 2
}
