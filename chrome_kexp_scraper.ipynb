{
 "cells": [
  {
   "cell_type": "code",
   "execution_count": 14,
   "metadata": {},
   "outputs": [
    {
     "name": "stderr",
     "output_type": "stream",
     "text": [
      "/anaconda3/lib/python3.7/site-packages/ipykernel_launcher.py:13: DeprecationWarning: use options instead of chrome_options\n",
      "  del sys.path[0]\n"
     ]
    },
    {
     "name": "stdout",
     "output_type": "stream",
     "text": [
      "{'time': '05:31 PM', 'name': 'Hothead', 'artist': 'Parisalexa', 'album': 'Hothead'}\n"
     ]
    }
   ],
   "source": [
    "import os\n",
    "from selenium import webdriver\n",
    "from selenium.webdriver.common.by import By\n",
    "from selenium.webdriver.chrome.options import Options  \n",
    "from time import sleep\n",
    "\n",
    "def GetMostRecentSong():\n",
    "    \n",
    "    chrome_options = Options()  \n",
    "    chrome_options.add_argument(\"--disable-extensions\")\n",
    "    chrome_options.add_argument(\"--headless\")  \n",
    "\n",
    "    driver = webdriver.Chrome(chrome_options=chrome_options)\n",
    "    driver.get(\"https://www.kexp.org/playlist\")\n",
    "    sleep(1)\n",
    "    \n",
    "    #first song\n",
    "    xpath_time = '//div[@class=\"PlaylistItem-time\"]//h5[1]'\n",
    "    xpath_song_name = '//div[@class=\"PlaylistItem u-mb1\"]//h3[1]'\n",
    "    xpath_song_artist = '//div[@class=\"PlaylistItem u-mb1\"]//div[@class=\"u-h3 u-mb1 u-lightWeight\"][1]'\n",
    "    xpath_song_album = '//div[@class=\"PlaylistItem u-mb1\"]//div[@class=\"u-h5 u-mb0 u-italic u-normalCase\"]'\n",
    "\n",
    "    song_time = driver.find_element_by_xpath(xpath_time).get_attribute('innerHTML')\n",
    "    song_name = driver.find_element_by_xpath(xpath_song_name).get_attribute('innerHTML')\n",
    "    song_artist = driver.find_element_by_xpath(xpath_song_artist).get_attribute('innerHTML')\n",
    "    song_album = driver.find_element_by_xpath(xpath_song_album).get_attribute('innerHTML')\n",
    "    \n",
    "    \n",
    "    #**# TODO: (STRETCH GOAL) add the next two most recent songs, and add functionality to Alexa:\n",
    "    #**# have her ask user if they would like to her the previous two songs after telling the first\n",
    "    \n",
    "#     #second song\n",
    "#     xpath_time = '//div[@class=\"PlaylistItem-time\"]//h5[1]'\n",
    "#     xpath_song_name = '//div[@class=\"PlaylistItem u-mb1\"]//h3[1]'\n",
    "#     xpath_song_artist = '//div[@class=\"PlaylistItem u-mb1\"]//div[@class=\"u-h3 u-mb1 u-lightWeight\"][1]'\n",
    "#     xpath_song_album = '//div[@class=\"PlaylistItem u-mb1\"]//div[@class=\"u-h5 u-mb0 u-italic u-normalCase\"]'\n",
    "\n",
    "#     song_time = driver.find_element_by_xpath(xpath_time).get_attribute('innerHTML')\n",
    "#     song_name = driver.find_element_by_xpath(xpath_song_name).get_attribute('innerHTML')\n",
    "#     song_artist = driver.find_element_by_xpath(xpath_song_artist).get_attribute('innerHTML')\n",
    "#     song_album = driver.find_element_by_xpath(xpath_song_album).get_attribute('innerHTML')\n",
    "    \n",
    "#     #third song\n",
    "#     xpath_time = '//div[@class=\"PlaylistItem-time\"]//h5[1]'\n",
    "#     xpath_song_name = '//div[@class=\"PlaylistItem u-mb1\"]//h3[1]'\n",
    "#     xpath_song_artist = '//div[@class=\"PlaylistItem u-mb1\"]//div[@class=\"u-h3 u-mb1 u-lightWeight\"][1]'\n",
    "#     xpath_song_album = '//div[@class=\"PlaylistItem u-mb1\"]//div[@class=\"u-h5 u-mb0 u-italic u-normalCase\"]'\n",
    "\n",
    "#     song_time = driver.find_element_by_xpath(xpath_time).get_attribute('innerHTML')\n",
    "#     song_name = driver.find_element_by_xpath(xpath_song_name).get_attribute('innerHTML')\n",
    "#     song_artist = driver.find_element_by_xpath(xpath_song_artist).get_attribute('innerHTML')\n",
    "#     song_album = driver.find_element_by_xpath(xpath_song_album).get_attribute('innerHTML')\n",
    "    \n",
    "    recent_songs = []\n",
    "    \n",
    "    first_song = {\n",
    "        'time': song_time,\n",
    "        'name': song_name,\n",
    "        'artist': song_artist,\n",
    "        'album': song_album\n",
    "    }\n",
    "    \n",
    "    print(first_song)\n",
    "    recent_songs.append(first_song)\n",
    "\n",
    "    driver.quit()\n",
    "\n",
    "    return first_song\n",
    "\n",
    "if __name__ == '__main__':\n",
    "    GetMostRecentSong()"
   ]
  },
  {
   "cell_type": "code",
   "execution_count": null,
   "metadata": {},
   "outputs": [],
   "source": []
  }
 ],
 "metadata": {
  "kernelspec": {
   "display_name": "Python 3",
   "language": "python",
   "name": "python3"
  },
  "language_info": {
   "codemirror_mode": {
    "name": "ipython",
    "version": 3
   },
   "file_extension": ".py",
   "mimetype": "text/x-python",
   "name": "python",
   "nbconvert_exporter": "python",
   "pygments_lexer": "ipython3",
   "version": "3.7.0"
  }
 },
 "nbformat": 4,
 "nbformat_minor": 2
}
