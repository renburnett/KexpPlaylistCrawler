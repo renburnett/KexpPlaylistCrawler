{
 "cells": [
  {
   "cell_type": "code",
   "execution_count": 20,
   "metadata": {},
   "outputs": [
    {
     "name": "stderr",
     "output_type": "stream",
     "text": [
      "/anaconda3/lib/python3.7/site-packages/ipykernel_launcher.py:12: DeprecationWarning: use options instead of chrome_options\n",
      "  if sys.path[0] == '':\n"
     ]
    },
    {
     "name": "stdout",
     "output_type": "stream",
     "text": [
      "Air Break\n",
      "[{'time': '04:09 PM', 'name': 'Gabriel', 'artist': 'Nao', 'album': 'Saturn'}, {'time': '04:07 PM', 'name': 'Air Break', 'artist': '', 'album': ''}]\n"
     ]
    }
   ],
   "source": [
    "import os\n",
    "from selenium import webdriver\n",
    "from selenium.webdriver.chrome.options import Options  \n",
    "from time import sleep\n",
    "\n",
    "def GetMostRecentSong():\n",
    "    \n",
    "    chrome_options = Options()  \n",
    "    chrome_options.add_argument(\"--disable-extensions\")\n",
    "    chrome_options.add_argument(\"--headless\")  \n",
    "\n",
    "    driver = webdriver.Chrome(chrome_options=chrome_options)\n",
    "    driver.get(\"https://www.kexp.org/playlist\")\n",
    "    sleep(1)\n",
    "    \n",
    "    try:\n",
    "        #first song\n",
    "        xpath_time_01 = '//div[@class=\"PlaylistItem u-mb1\"][1]//div[@class=\"PlaylistItem-time\"][1]//h5[1]'\n",
    "        xpath_song_name_01 = '//div[@class=\"PlaylistItem u-mb1\"][1]//div[@class=\"PlaylistItem-primaryContent\"]//h3[1]'\n",
    "        xpath_song_artist_01 = '//div[@class=\"PlaylistItem u-mb1\"][1]//div[@class=\"PlaylistItem-primaryContent\"]//div[1]'\n",
    "        xpath_song_album_01 = '//div[@class=\"PlaylistItem u-mb1\"][1]//div[@class=\"PlaylistItem-primaryContent\"]//div[2]'\n",
    "\n",
    "        song_time_01 = driver.find_element_by_xpath(xpath_time_01).get_attribute('innerHTML')\n",
    "        song_name_01 = driver.find_element_by_xpath(xpath_song_name_01).get_attribute('innerHTML')\n",
    "        song_artist_01 = driver.find_element_by_xpath(xpath_song_artist_01).get_attribute('innerHTML')\n",
    "        song_album_01 = driver.find_element_by_xpath(xpath_song_album_01).get_attribute('innerHTML')\n",
    "    except:\n",
    "        print(\"Air Break\")\n",
    "        song_artist_01 = ''\n",
    "        song_album_01 = ''\n",
    "        \n",
    "    try:\n",
    "        #second song\n",
    "        xpath_time_02 = '//div[@class=\"PlaylistItem u-mb1\"][2]//div[@class=\"PlaylistItem-time\"][1]//h5[1]'\n",
    "        xpath_song_name_02 = '//div[@class=\"PlaylistItem u-mb1\"][2]//div[@class=\"PlaylistItem-primaryContent\"]//h3[1]'\n",
    "        xpath_song_artist_02 = '//div[@class=\"PlaylistItem u-mb1\"][2]//div[@class=\"PlaylistItem-primaryContent\"]//div[1]'\n",
    "        xpath_song_album_02 = '//div[@class=\"PlaylistItem u-mb1\"][2]//div[@class=\"PlaylistItem-primaryContent\"]//div[2]'\n",
    "\n",
    "        song_time_02 = driver.find_element_by_xpath(xpath_time_02).get_attribute('innerHTML')\n",
    "        song_name_02 = driver.find_element_by_xpath(xpath_song_name_02).get_attribute('innerHTML')\n",
    "        song_artist_02 = driver.find_element_by_xpath(xpath_song_artist_02).get_attribute('innerHTML')\n",
    "        song_album_02 = driver.find_element_by_xpath(xpath_song_album_02).get_attribute('innerHTML')\n",
    "    except:\n",
    "        print(\"Air Break\")\n",
    "        song_artist_02 = ''\n",
    "        song_album_02 = ''\n",
    "\n",
    "    try:\n",
    "        #third song   \n",
    "        xpath_time_03 = '//div[@class=\"PlaylistItem u-mb1\"][3]//div[@class=\"PlaylistItem-time\"][1]//h5[1]'\n",
    "        xpath_song_name_03 = '//div[@class=\"PlaylistItem u-mb1\"][3]//div[@class=\"PlaylistItem-primaryContent\"]//h3[1]'\n",
    "        xpath_song_artist_03 = '//div[@class=\"PlaylistItem u-mb1\"][3]//div[@class=\"PlaylistItem-primaryContent\"]//div[1]'\n",
    "        xpath_song_album_03 = '//div[@class=\"PlaylistItem u-mb1\"][3]//div[@class=\"PlaylistItem-primaryContent\"]//div[2]'\n",
    "\n",
    "        song_time_03 = driver.find_element_by_xpath(xpath_time_03).get_attribute('innerHTML')\n",
    "        song_name_03 = driver.find_element_by_xpath(xpath_song_name_03).get_attribute('innerHTML')\n",
    "        song_artist_03 = driver.find_element_by_xpath(xpath_song_artist_03).get_attribute('innerHTML')\n",
    "        song_album_03 = driver.find_element_by_xpath(xpath_song_album_03).get_attribute('innerHTML')\n",
    "    except:\n",
    "        print(\"Air Break\")\n",
    "        song_artist_03 = ''\n",
    "        song_album_03 = ''\n",
    "\n",
    "    recent_songs = []\n",
    "    first_song = {\n",
    "        'time': song_time_01,\n",
    "        'name': song_name_01,\n",
    "        'artist': song_artist_01,\n",
    "        'album': song_album_01\n",
    "    }\n",
    "    second_song = {\n",
    "        'time': song_time_02,\n",
    "        'name': song_name_02,\n",
    "        'artist': song_artist_02,\n",
    "        'album': song_album_02\n",
    "    }\n",
    "    third_song = {\n",
    "        'time': song_time_03,\n",
    "        'name': song_name_03,\n",
    "        'artist': song_artist_03,\n",
    "        'album': song_album_03\n",
    "    }\n",
    "\n",
    "    recent_songs.append(first_song)\n",
    "    \n",
    "    #NOTE: there is a bug on the KEXP page that double-prints the first or second most recent songs sometimes\n",
    "    #this if-statement checks for dupes\n",
    "    if song_name_02 != song_name_01:\n",
    "        recent_songs.append(second_song)\n",
    "    if song_name_03 != song_name_02 and song_name_03 != song_name_01:\n",
    "        recent_songs.append(third_song)\n",
    "    \n",
    "    print(recent_songs)\n",
    "    driver.close()\n",
    "\n",
    "    return recent_songs\n",
    "\n",
    "if __name__ == '__main__':\n",
    "    GetMostRecentSong()"
   ]
  },
  {
   "cell_type": "code",
   "execution_count": null,
   "metadata": {},
   "outputs": [],
   "source": []
  },
  {
   "cell_type": "code",
   "execution_count": null,
   "metadata": {},
   "outputs": [],
   "source": []
  },
  {
   "cell_type": "code",
   "execution_count": null,
   "metadata": {},
   "outputs": [],
   "source": []
  },
  {
   "cell_type": "code",
   "execution_count": null,
   "metadata": {},
   "outputs": [],
   "source": []
  }
 ],
 "metadata": {
  "kernelspec": {
   "display_name": "Python 3",
   "language": "python",
   "name": "python3"
  },
  "language_info": {
   "codemirror_mode": {
    "name": "ipython",
    "version": 3
   },
   "file_extension": ".py",
   "mimetype": "text/x-python",
   "name": "python",
   "nbconvert_exporter": "python",
   "pygments_lexer": "ipython3",
   "version": "3.7.0"
  }
 },
 "nbformat": 4,
 "nbformat_minor": 2
}
